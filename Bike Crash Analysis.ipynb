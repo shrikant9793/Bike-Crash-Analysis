{
 "cells": [
  {
   "cell_type": "markdown",
   "metadata": {},
   "source": [
    "# Bike Crash Analysis"
   ]
  },
  {
   "cell_type": "code",
   "execution_count": 1,
   "metadata": {},
   "outputs": [],
   "source": [
    "import pandas as pd\n",
    "import numpy as np\n",
    "import matplotlib.pyplot as plt\n",
    "import seaborn as sns\n",
    "import os\n",
    "import warnings\n",
    "warnings.filterwarnings(\"ignore\")\n",
    "plt.style.use('ggplot')"
   ]
  },
  {
   "cell_type": "code",
   "execution_count": 2,
   "metadata": {},
   "outputs": [
    {
     "data": {
      "text/html": [
       "<div>\n",
       "<style scoped>\n",
       "    .dataframe tbody tr th:only-of-type {\n",
       "        vertical-align: middle;\n",
       "    }\n",
       "\n",
       "    .dataframe tbody tr th {\n",
       "        vertical-align: top;\n",
       "    }\n",
       "\n",
       "    .dataframe thead th {\n",
       "        text-align: right;\n",
       "    }\n",
       "</style>\n",
       "<table border=\"1\" class=\"dataframe\">\n",
       "  <thead>\n",
       "    <tr style=\"text-align: right;\">\n",
       "      <th></th>\n",
       "      <th>X</th>\n",
       "      <th>Y</th>\n",
       "      <th>OBJECTID_1</th>\n",
       "      <th>AmbulanceR</th>\n",
       "      <th>BikeAge</th>\n",
       "      <th>BikeAgeGrp</th>\n",
       "      <th>BikeAlcDrg</th>\n",
       "      <th>BikeAlcFlg</th>\n",
       "      <th>BikeDir</th>\n",
       "      <th>BikeInjury</th>\n",
       "      <th>...</th>\n",
       "      <th>RdDefects</th>\n",
       "      <th>RdFeature</th>\n",
       "      <th>RdSurface</th>\n",
       "      <th>Region</th>\n",
       "      <th>RuralUrban</th>\n",
       "      <th>SpeedLimit</th>\n",
       "      <th>TraffCntrl</th>\n",
       "      <th>Weather</th>\n",
       "      <th>Workzone</th>\n",
       "      <th>OBJECTID</th>\n",
       "    </tr>\n",
       "  </thead>\n",
       "  <tbody>\n",
       "    <tr>\n",
       "      <th>0</th>\n",
       "      <td>-78.883896</td>\n",
       "      <td>36.039490</td>\n",
       "      <td>1</td>\n",
       "      <td>Yes</td>\n",
       "      <td>11</td>\n",
       "      <td>Nov-15</td>\n",
       "      <td>.</td>\n",
       "      <td>No</td>\n",
       "      <td>With Traffic</td>\n",
       "      <td>B: Suspected Minor Injury</td>\n",
       "      <td>...</td>\n",
       "      <td>None</td>\n",
       "      <td>No Special Feature</td>\n",
       "      <td>Smooth Asphalt</td>\n",
       "      <td>Piedmont</td>\n",
       "      <td>Urban</td>\n",
       "      <td>30 - 35  MPH</td>\n",
       "      <td>No Control Present</td>\n",
       "      <td>Clear</td>\n",
       "      <td>No</td>\n",
       "      <td>1</td>\n",
       "    </tr>\n",
       "    <tr>\n",
       "      <th>1</th>\n",
       "      <td>-78.782800</td>\n",
       "      <td>35.751118</td>\n",
       "      <td>2</td>\n",
       "      <td>Yes</td>\n",
       "      <td>20</td>\n",
       "      <td>20-24</td>\n",
       "      <td>.</td>\n",
       "      <td>No</td>\n",
       "      <td>Facing Traffic</td>\n",
       "      <td>C: Possible Injury</td>\n",
       "      <td>...</td>\n",
       "      <td>None</td>\n",
       "      <td>Four-Way Intersection</td>\n",
       "      <td>Smooth Asphalt</td>\n",
       "      <td>Piedmont</td>\n",
       "      <td>Urban</td>\n",
       "      <td>30 - 35  MPH</td>\n",
       "      <td>Stop And Go Signal</td>\n",
       "      <td>Clear</td>\n",
       "      <td>No</td>\n",
       "      <td>2</td>\n",
       "    </tr>\n",
       "    <tr>\n",
       "      <th>2</th>\n",
       "      <td>-80.697820</td>\n",
       "      <td>35.084732</td>\n",
       "      <td>3</td>\n",
       "      <td>Yes</td>\n",
       "      <td>37</td>\n",
       "      <td>30-39</td>\n",
       "      <td>.</td>\n",
       "      <td>No</td>\n",
       "      <td>Unknown</td>\n",
       "      <td>B: Suspected Minor Injury</td>\n",
       "      <td>...</td>\n",
       "      <td>None</td>\n",
       "      <td>No Special Feature</td>\n",
       "      <td>Smooth Asphalt</td>\n",
       "      <td>Piedmont</td>\n",
       "      <td>Urban</td>\n",
       "      <td>20 - 25  MPH</td>\n",
       "      <td>No Control Present</td>\n",
       "      <td>Cloudy</td>\n",
       "      <td>No</td>\n",
       "      <td>3</td>\n",
       "    </tr>\n",
       "    <tr>\n",
       "      <th>3</th>\n",
       "      <td>-80.479320</td>\n",
       "      <td>35.684400</td>\n",
       "      <td>4</td>\n",
       "      <td>Yes</td>\n",
       "      <td>30</td>\n",
       "      <td>30-39</td>\n",
       "      <td>.</td>\n",
       "      <td>No</td>\n",
       "      <td>With Traffic</td>\n",
       "      <td>C: Possible Injury</td>\n",
       "      <td>...</td>\n",
       "      <td>None</td>\n",
       "      <td>Four-Way Intersection</td>\n",
       "      <td>Smooth Asphalt</td>\n",
       "      <td>Piedmont</td>\n",
       "      <td>Urban</td>\n",
       "      <td>30 - 35  MPH</td>\n",
       "      <td>No Control Present</td>\n",
       "      <td>Cloudy</td>\n",
       "      <td>No</td>\n",
       "      <td>4</td>\n",
       "    </tr>\n",
       "    <tr>\n",
       "      <th>4</th>\n",
       "      <td>-78.904450</td>\n",
       "      <td>34.999428</td>\n",
       "      <td>5</td>\n",
       "      <td>Yes</td>\n",
       "      <td>45</td>\n",
       "      <td>40-49</td>\n",
       "      <td>.</td>\n",
       "      <td>No</td>\n",
       "      <td>With Traffic</td>\n",
       "      <td>B: Suspected Minor Injury</td>\n",
       "      <td>...</td>\n",
       "      <td>None</td>\n",
       "      <td>No Special Feature</td>\n",
       "      <td>Coarse Asphalt</td>\n",
       "      <td>Coastal</td>\n",
       "      <td>Urban</td>\n",
       "      <td>30 - 35  MPH</td>\n",
       "      <td>Double Yellow Line, No Passing Zone</td>\n",
       "      <td>Clear</td>\n",
       "      <td>No</td>\n",
       "      <td>5</td>\n",
       "    </tr>\n",
       "  </tbody>\n",
       "</table>\n",
       "<p>5 rows × 62 columns</p>\n",
       "</div>"
      ],
      "text/plain": [
       "           X          Y  OBJECTID_1 AmbulanceR BikeAge BikeAgeGrp BikeAlcDrg  \\\n",
       "0 -78.883896  36.039490           1        Yes      11     Nov-15          .   \n",
       "1 -78.782800  35.751118           2        Yes      20      20-24          .   \n",
       "2 -80.697820  35.084732           3        Yes      37      30-39          .   \n",
       "3 -80.479320  35.684400           4        Yes      30      30-39          .   \n",
       "4 -78.904450  34.999428           5        Yes      45      40-49          .   \n",
       "\n",
       "  BikeAlcFlg         BikeDir                 BikeInjury  ... RdDefects  \\\n",
       "0         No    With Traffic  B: Suspected Minor Injury  ...      None   \n",
       "1         No  Facing Traffic         C: Possible Injury  ...      None   \n",
       "2         No         Unknown  B: Suspected Minor Injury  ...      None   \n",
       "3         No    With Traffic         C: Possible Injury  ...      None   \n",
       "4         No    With Traffic  B: Suspected Minor Injury  ...      None   \n",
       "\n",
       "               RdFeature       RdSurface    Region RuralUrban    SpeedLimit  \\\n",
       "0     No Special Feature  Smooth Asphalt  Piedmont      Urban  30 - 35  MPH   \n",
       "1  Four-Way Intersection  Smooth Asphalt  Piedmont      Urban  30 - 35  MPH   \n",
       "2     No Special Feature  Smooth Asphalt  Piedmont      Urban  20 - 25  MPH   \n",
       "3  Four-Way Intersection  Smooth Asphalt  Piedmont      Urban  30 - 35  MPH   \n",
       "4     No Special Feature  Coarse Asphalt   Coastal      Urban  30 - 35  MPH   \n",
       "\n",
       "                            TraffCntrl Weather  Workzone  OBJECTID  \n",
       "0                   No Control Present   Clear        No         1  \n",
       "1                   Stop And Go Signal   Clear        No         2  \n",
       "2                   No Control Present  Cloudy        No         3  \n",
       "3                   No Control Present  Cloudy        No         4  \n",
       "4  Double Yellow Line, No Passing Zone   Clear        No         5  \n",
       "\n",
       "[5 rows x 62 columns]"
      ]
     },
     "execution_count": 2,
     "metadata": {},
     "output_type": "execute_result"
    }
   ],
   "source": [
    "data = pd.read_csv(r\"C:\\Users\\hp\\Desktop\\New folder\\Python Object and Data Structure Basics\\csv file\\All Files\\All Files\\BikePedCrash.csv\")\n",
    "data.head()"
   ]
  },
  {
   "cell_type": "code",
   "execution_count": 3,
   "metadata": {},
   "outputs": [
    {
     "data": {
      "text/plain": [
       "Index(['X', 'Y', 'OBJECTID_1', 'AmbulanceR', 'BikeAge', 'BikeAgeGrp',\n",
       "       'BikeAlcDrg', 'BikeAlcFlg', 'BikeDir', 'BikeInjury', 'BikePos',\n",
       "       'BikeRace', 'BikeSex', 'City', 'County', 'CrashAlcoh', 'CrashDay',\n",
       "       'CrashGrp', 'CrashHour', 'CrashID', 'CrashLoc', 'CrashMonth',\n",
       "       'CrashSevr', 'CrashType', 'CrashYear', 'Developmen', 'DrvrAge',\n",
       "       'DrvrAgeGrp', 'DrvrAlcDrg', 'DrvrAlcFlg', 'DrvrInjury', 'DrvrRace',\n",
       "       'DrvrSex', 'DrvrVehTyp', 'HitRun', 'Latitude', 'LightCond', 'Locality',\n",
       "       'Longitude', 'NumBicsAin', 'NumBicsBin', 'NumBicsCin', 'NumBicsKil',\n",
       "       'NumBicsNoi', 'NumBicsTot', 'NumBicsUin', 'NumLanes', 'NumUnits',\n",
       "       'RdCharacte', 'RdClass', 'RdConditio', 'RdConfig', 'RdDefects',\n",
       "       'RdFeature', 'RdSurface', 'Region', 'RuralUrban', 'SpeedLimit',\n",
       "       'TraffCntrl', 'Weather', 'Workzone', 'OBJECTID'],\n",
       "      dtype='object')"
      ]
     },
     "execution_count": 3,
     "metadata": {},
     "output_type": "execute_result"
    }
   ],
   "source": [
    "data.columns"
   ]
  },
  {
   "cell_type": "code",
   "execution_count": 4,
   "metadata": {},
   "outputs": [
    {
     "data": {
      "text/plain": [
       "(12173, 62)"
      ]
     },
     "execution_count": 4,
     "metadata": {},
     "output_type": "execute_result"
    }
   ],
   "source": [
    "data.shape"
   ]
  },
  {
   "cell_type": "code",
   "execution_count": 5,
   "metadata": {},
   "outputs": [
    {
     "data": {
      "text/plain": [
       "754726"
      ]
     },
     "execution_count": 5,
     "metadata": {},
     "output_type": "execute_result"
    }
   ],
   "source": [
    "data.size"
   ]
  },
  {
   "cell_type": "code",
   "execution_count": 6,
   "metadata": {},
   "outputs": [
    {
     "name": "stdout",
     "output_type": "stream",
     "text": [
      "<class 'pandas.core.frame.DataFrame'>\n",
      "RangeIndex: 12173 entries, 0 to 12172\n",
      "Data columns (total 62 columns):\n",
      " #   Column      Non-Null Count  Dtype  \n",
      "---  ------      --------------  -----  \n",
      " 0   X           12173 non-null  float64\n",
      " 1   Y           12173 non-null  float64\n",
      " 2   OBJECTID_1  12173 non-null  int64  \n",
      " 3   AmbulanceR  12173 non-null  object \n",
      " 4   BikeAge     12173 non-null  object \n",
      " 5   BikeAgeGrp  12173 non-null  object \n",
      " 6   BikeAlcDrg  12173 non-null  object \n",
      " 7   BikeAlcFlg  12173 non-null  object \n",
      " 8   BikeDir     12173 non-null  object \n",
      " 9   BikeInjury  12173 non-null  object \n",
      " 10  BikePos     12173 non-null  object \n",
      " 11  BikeRace    12173 non-null  object \n",
      " 12  BikeSex     12173 non-null  object \n",
      " 13  City        12173 non-null  object \n",
      " 14  County      12173 non-null  object \n",
      " 15  CrashAlcoh  12173 non-null  object \n",
      " 16  CrashDay    12173 non-null  object \n",
      " 17  CrashGrp    12173 non-null  object \n",
      " 18  CrashHour   12173 non-null  int64  \n",
      " 19  CrashID     12173 non-null  int64  \n",
      " 20  CrashLoc    12173 non-null  object \n",
      " 21  CrashMonth  12173 non-null  object \n",
      " 22  CrashSevr   12173 non-null  object \n",
      " 23  CrashType   12173 non-null  object \n",
      " 24  CrashYear   12173 non-null  int64  \n",
      " 25  Developmen  12173 non-null  object \n",
      " 26  DrvrAge     12173 non-null  object \n",
      " 27  DrvrAgeGrp  12173 non-null  object \n",
      " 28  DrvrAlcDrg  12173 non-null  object \n",
      " 29  DrvrAlcFlg  12173 non-null  object \n",
      " 30  DrvrInjury  12173 non-null  object \n",
      " 31  DrvrRace    12173 non-null  object \n",
      " 32  DrvrSex     12173 non-null  object \n",
      " 33  DrvrVehTyp  12173 non-null  object \n",
      " 34  HitRun      12173 non-null  object \n",
      " 35  Latitude    12173 non-null  float64\n",
      " 36  LightCond   12173 non-null  object \n",
      " 37  Locality    12173 non-null  object \n",
      " 38  Longitude   12173 non-null  float64\n",
      " 39  NumBicsAin  12173 non-null  object \n",
      " 40  NumBicsBin  12173 non-null  object \n",
      " 41  NumBicsCin  12173 non-null  object \n",
      " 42  NumBicsKil  12173 non-null  object \n",
      " 43  NumBicsNoi  12173 non-null  object \n",
      " 44  NumBicsTot  12173 non-null  object \n",
      " 45  NumBicsUin  12173 non-null  object \n",
      " 46  NumLanes    12173 non-null  object \n",
      " 47  NumUnits    12173 non-null  int64  \n",
      " 48  RdCharacte  12173 non-null  object \n",
      " 49  RdClass     12173 non-null  object \n",
      " 50  RdConditio  12173 non-null  object \n",
      " 51  RdConfig    12173 non-null  object \n",
      " 52  RdDefects   12173 non-null  object \n",
      " 53  RdFeature   12173 non-null  object \n",
      " 54  RdSurface   12173 non-null  object \n",
      " 55  Region      12173 non-null  object \n",
      " 56  RuralUrban  12173 non-null  object \n",
      " 57  SpeedLimit  12173 non-null  object \n",
      " 58  TraffCntrl  12173 non-null  object \n",
      " 59  Weather     12173 non-null  object \n",
      " 60  Workzone    12173 non-null  object \n",
      " 61  OBJECTID    12173 non-null  int64  \n",
      "dtypes: float64(4), int64(6), object(52)\n",
      "memory usage: 5.8+ MB\n"
     ]
    }
   ],
   "source": [
    "data.info()"
   ]
  },
  {
   "cell_type": "markdown",
   "metadata": {},
   "source": [
    "# Exploratory Data Analysis"
   ]
  },
  {
   "cell_type": "code",
   "execution_count": 7,
   "metadata": {},
   "outputs": [
    {
     "data": {
      "text/plain": [
       "Text(0.5, 1.0, 'Availability of Ambulance')"
      ]
     },
     "execution_count": 7,
     "metadata": {},
     "output_type": "execute_result"
    },
    {
     "data": {
      "image/png": "[encoded data removed]",
      "text/plain": [
       "<Figure size 432x288 with 1 Axes>"
      ]
     },
     "metadata": {
      "needs_background": "light"
     },
     "output_type": "display_data"
    }
   ],
   "source": [
    "data['AmbulanceR'].value_counts().sort_index().plot.bar()\n",
    "plt.title(\"Availability of Ambulance\")"
   ]
  },
  {
   "cell_type": "code",
   "execution_count": 8,
   "metadata": {},
   "outputs": [
    {
     "data": {
      "text/plain": [
       "Text(0.5, 1.0, 'Age Group Analysis')"
      ]
     },
     "execution_count": 8,
     "metadata": {},
     "output_type": "execute_result"
    },
    {
     "data": {
      "image/png": "[encoded data removed]",
      "text/plain": [
       "<Figure size 432x288 with 1 Axes>"
      ]
     },
     "metadata": {
      "needs_background": "light"
     },
     "output_type": "display_data"
    }
   ],
   "source": [
    "data['BikeAgeGrp'].value_counts().sort_index().plot.bar()#find out in which group of age people have more accident\n",
    "plt.title(\"Age Group Analysis\")"
   ]
  },
  {
   "cell_type": "code",
   "execution_count": 9,
   "metadata": {},
   "outputs": [
    {
     "data": {
      "text/plain": [
       "Text(0.5, 1.0, 'License')"
      ]
     },
     "execution_count": 9,
     "metadata": {},
     "output_type": "execute_result"
    },
    {
     "data": {
      "image/png": "[encoded data removed]",
      "text/plain": [
       "<Figure size 432x288 with 1 Axes>"
      ]
     },
     "metadata": {
      "needs_background": "light"
     },
     "output_type": "display_data"
    }
   ],
   "source": [
    "data['BikeAlcFlg'].value_counts().sort_index().plot.bar()#find out who have license or accident people have license or not?\n",
    "plt.title(\"License\")"
   ]
  },
  {
   "cell_type": "code",
   "execution_count": 10,
   "metadata": {},
   "outputs": [
    {
     "data": {
      "text/plain": [
       "Text(0.5, 1.0, 'Injuries')"
      ]
     },
     "execution_count": 10,
     "metadata": {},
     "output_type": "execute_result"
    },
    {
     "data": {
      "image/png": "[encoded data removed]",
      "text/plain": [
       "<Figure size 432x288 with 1 Axes>"
      ]
     },
     "metadata": {
      "needs_background": "light"
     },
     "output_type": "display_data"
    }
   ],
   "source": [
    "data['BikeInjury'].value_counts().sort_index().plot.bar()#injuries types with how many injuries happen?\n",
    "plt.title(\"Injuries\")"
   ]
  },
  {
   "cell_type": "code",
   "execution_count": 11,
   "metadata": {},
   "outputs": [
    {
     "data": {
      "text/plain": [
       "Text(0.5, 1.0, 'Position of the Bikes')"
      ]
     },
     "execution_count": 11,
     "metadata": {},
     "output_type": "execute_result"
    },
    {
     "data": {
      "image/png": "[encoded data removed]",
      "text/plain": [
       "<Figure size 432x288 with 1 Axes>"
      ]
     },
     "metadata": {
      "needs_background": "light"
     },
     "output_type": "display_data"
    }
   ],
   "source": [
    "data['BikeDir'].value_counts().sort_index().plot.bar()#in which position the accident happens?\n",
    "plt.title(\"Position of the Bikes\")"
   ]
  },
  {
   "cell_type": "code",
   "execution_count": 12,
   "metadata": {},
   "outputs": [
    {
     "data": {
      "text/plain": [
       "Text(0.5, 1.0, 'Bike Riding Area')"
      ]
     },
     "execution_count": 12,
     "metadata": {},
     "output_type": "execute_result"
    },
    {
     "data": {
      "image/png": "[encoded data removed]",
      "text/plain": [
       "<Figure size 432x288 with 1 Axes>"
      ]
     },
     "metadata": {
      "needs_background": "light"
     },
     "output_type": "display_data"
    }
   ],
   "source": [
    "data['BikePos'].value_counts().sort_index().plot.bar()\n",
    "plt.title(\"Bike Riding Area\")"
   ]
  },
  {
   "cell_type": "code",
   "execution_count": 13,
   "metadata": {},
   "outputs": [
    {
     "data": {
      "text/plain": [
       "Text(0.5, 1.0, 'Bike Ride Identification')"
      ]
     },
     "execution_count": 13,
     "metadata": {},
     "output_type": "execute_result"
    },
    {
     "data": {
      "image/png": "[encoded data removed]",
      "text/plain": [
       "<Figure size 432x288 with 1 Axes>"
      ]
     },
     "metadata": {
      "needs_background": "light"
     },
     "output_type": "display_data"
    }
   ],
   "source": [
    "data['BikeRace'].value_counts().sort_index().plot.bar()\n",
    "plt.title(\"Bike Ride Identification\")"
   ]
  },
  {
   "cell_type": "code",
   "execution_count": 23,
   "metadata": {},
   "outputs": [
    {
     "data": {
      "text/plain": [
       "Male       10128\n",
       "Female      1810\n",
       "Unknown      235\n",
       "Name: BikeSex, dtype: int64"
      ]
     },
     "execution_count": 23,
     "metadata": {},
     "output_type": "execute_result"
    }
   ],
   "source": [
    "data['BikeSex'].value_counts()"
   ]
  },
  {
   "cell_type": "code",
   "execution_count": 14,
   "metadata": {},
   "outputs": [
    {
     "data": {
      "text/plain": [
       "Text(0.5, 1.0, 'Gender Wise Analysis')"
      ]
     },
     "execution_count": 14,
     "metadata": {},
     "output_type": "execute_result"
    },
    {
     "data": {
      "image/png": "[encoded data removed]",
      "text/plain": [
       "<Figure size 432x288 with 1 Axes>"
      ]
     },
     "metadata": {
      "needs_background": "light"
     },
     "output_type": "display_data"
    }
   ],
   "source": [
    "#find out Gender wise Analysis\n",
    "data['BikeSex'].value_counts().sort_index().plot.bar()\n",
    "plt.title(\"Gender Wise Analysis\", fontsize=20)"
   ]
  },
  {
   "cell_type": "code",
   "execution_count": 22,
   "metadata": {},
   "outputs": [
    {
     "data": {
      "text/plain": [
       "No     11331\n",
       "Yes      842\n",
       "Name: CrashAlcoh, dtype: int64"
      ]
     },
     "execution_count": 22,
     "metadata": {},
     "output_type": "execute_result"
    }
   ],
   "source": [
    "data['CrashAlcoh'].value_counts()"
   ]
  },
  {
   "cell_type": "code",
   "execution_count": 15,
   "metadata": {},
   "outputs": [
    {
     "data": {
      "text/plain": [
       "Text(0.5, 1.0, 'Alcohol Consumption during Accident')"
      ]
     },
     "execution_count": 15,
     "metadata": {},
     "output_type": "execute_result"
    },
    {
     "data": {
      "image/png": "[encoded data removed]",
      "text/plain": [
       "<Figure size 432x288 with 1 Axes>"
      ]
     },
     "metadata": {
      "needs_background": "light"
     },
     "output_type": "display_data"
    }
   ],
   "source": [
    "data['CrashAlcoh'].value_counts().sort_index().plot.bar()#wheather bike person consume drink or not?\n",
    "plt.title('Alcohol Consumption during Accident', fontsize=15)"
   ]
  },
  {
   "cell_type": "code",
   "execution_count": 21,
   "metadata": {},
   "outputs": [
    {
     "data": {
      "text/plain": [
       "Friday       1910\n",
       "Thursday     1840\n",
       "Wednesday    1838\n",
       "Tuesday      1829\n",
       "Monday       1765\n",
       "Saturday     1621\n",
       "Sunday       1370\n",
       "Name: CrashDay, dtype: int64"
      ]
     },
     "execution_count": 21,
     "metadata": {},
     "output_type": "execute_result"
    }
   ],
   "source": [
    "data.CrashDay.value_counts()"
   ]
  },
  {
   "cell_type": "code",
   "execution_count": 16,
   "metadata": {},
   "outputs": [
    {
     "data": {
      "text/plain": [
       "Text(0.5, 1.0, 'Day of the Accident')"
      ]
     },
     "execution_count": 16,
     "metadata": {},
     "output_type": "execute_result"
    },
    {
     "data": {
      "image/png": "[encoded data removed]",
      "text/plain": [
       "<Figure size 432x288 with 1 Axes>"
      ]
     },
     "metadata": {
      "needs_background": "light"
     },
     "output_type": "display_data"
    }
   ],
   "source": [
    "data['CrashDay'].value_counts().sort_values().plot.bar()#find out on whcih day more no. of accident happen\n",
    "plt.title(\"Day of the Accident\", fontsize=15)"
   ]
  },
  {
   "cell_type": "code",
   "execution_count": 20,
   "metadata": {},
   "outputs": [
    {
     "data": {
      "text/plain": [
       "Motorist Overtaking Bicyclist                               2396\n",
       "Motorist Failed to Yield - Sign-Controlled Intersection     1171\n",
       "Motorist Left Turn / Merge                                  1053\n",
       "Motorist Failed to Yield - Midblock                          904\n",
       "Bicyclist Failed to Yield - Midblock                         803\n",
       "Bicyclist Failed to Yield - Sign-Controlled Intersection     730\n",
       "Crossing Paths - Other Circumstances                         716\n",
       "Motorist Right Turn / Merge                                  641\n",
       "Bicyclist Failed to Yield - Signalized Intersection          588\n",
       "Non-Roadway                                                  538\n",
       "Bicyclist Left Turn / Merge                                  527\n",
       "Loss of Control / Turning Error                              508\n",
       "Motorist Failed to Yield - Signalized Intersection           402\n",
       "Head-On                                                      327\n",
       "Bicyclist Overtaking Motorist                                248\n",
       "Parallel Paths - Other Circumstances                         214\n",
       "Bicyclist Right Turn / Merge                                 140\n",
       "Other / Unknown - Insufficient Details                        97\n",
       "Backing Vehicle                                               94\n",
       "Other / Unusual Circumstances                                 64\n",
       "Parking / Bus-Related                                         12\n",
       "Name: CrashGrp, dtype: int64"
      ]
     },
     "execution_count": 20,
     "metadata": {},
     "output_type": "execute_result"
    }
   ],
   "source": [
    "data['CrashGrp'].value_counts()"
   ]
  },
  {
   "cell_type": "code",
   "execution_count": 17,
   "metadata": {},
   "outputs": [
    {
     "data": {
      "text/plain": [
       "Text(0.5, 1.0, 'Type of Accident')"
      ]
     },
     "execution_count": 17,
     "metadata": {},
     "output_type": "execute_result"
    },
    {
     "data": {
      "image/png": "[encoded data removed]",
      "text/plain": [
       "<Figure size 432x288 with 1 Axes>"
      ]
     },
     "metadata": {
      "needs_background": "light"
     },
     "output_type": "display_data"
    }
   ],
   "source": [
    "data['CrashGrp'].value_counts().sort_index().plot.bar()\n",
    "plt.title(\"Type of Accident\", fontsize=15)"
   ]
  },
  {
   "cell_type": "code",
   "execution_count": 19,
   "metadata": {},
   "outputs": [
    {
     "data": {
      "text/plain": [
       "Non-Intersection        5535\n",
       "Intersection            5267\n",
       "Intersection-Related     823\n",
       "Non-Roadway              538\n",
       "Unknown Location          10\n",
       "Name: CrashLoc, dtype: int64"
      ]
     },
     "execution_count": 19,
     "metadata": {},
     "output_type": "execute_result"
    }
   ],
   "source": [
    "data['CrashLoc'].value_counts()"
   ]
  },
  {
   "cell_type": "code",
   "execution_count": 18,
   "metadata": {},
   "outputs": [
    {
     "data": {
      "text/plain": [
       "Text(0.5, 1.0, 'Location of the Accident')"
      ]
     },
     "execution_count": 18,
     "metadata": {},
     "output_type": "execute_result"
    },
    {
     "data": {
      "image/png": "[encoded data removed]",
      "text/plain": [
       "<Figure size 432x288 with 1 Axes>"
      ]
     },
     "metadata": {
      "needs_background": "light"
     },
     "output_type": "display_data"
    }
   ],
   "source": [
    "data['CrashLoc'].value_counts().sort_index().plot.bar()\n",
    "plt.title(\"Location of the Accident\", fontsize=15)"
   ]
  },
  {
   "cell_type": "code",
   "execution_count": 24,
   "metadata": {},
   "outputs": [
    {
     "data": {
      "text/plain": [
       "Piedmont     6895\n",
       "Coastal      4353\n",
       "Mountains     925\n",
       "Name: Region, dtype: int64"
      ]
     },
     "execution_count": 24,
     "metadata": {},
     "output_type": "execute_result"
    }
   ],
   "source": [
    "data['Region'].value_counts()"
   ]
  },
  {
   "cell_type": "code",
   "execution_count": 25,
   "metadata": {},
   "outputs": [
    {
     "data": {
      "text/plain": [
       "Text(0.5, 1.0, 'Region wise Accident')"
      ]
     },
     "execution_count": 25,
     "metadata": {},
     "output_type": "execute_result"
    },
    {
     "data": {
      "image/png": "[encoded data removed]",
      "text/plain": [
       "<Figure size 432x288 with 1 Axes>"
      ]
     },
     "metadata": {
      "needs_background": "light"
     },
     "output_type": "display_data"
    }
   ],
   "source": [
    "data['Region'].value_counts().sort_index().plot.bar()\n",
    "plt.title(\"Region wise Accident\", fontsize=15)"
   ]
  },
  {
   "cell_type": "code",
   "execution_count": 26,
   "metadata": {},
   "outputs": [
    {
     "data": {
      "text/plain": [
       "Clear                                       10061\n",
       "Cloudy                                       1537\n",
       "Rain                                          515\n",
       "Fog, Smog, Smoke                               24\n",
       "Other                                          21\n",
       "Snow, Sleet, Hail, Freezing Rain/Drizzle       15\n",
       "Name: Weather, dtype: int64"
      ]
     },
     "execution_count": 26,
     "metadata": {},
     "output_type": "execute_result"
    }
   ],
   "source": [
    "data.Weather.value_counts()"
   ]
  },
  {
   "cell_type": "code",
   "execution_count": 29,
   "metadata": {},
   "outputs": [
    {
     "data": {
      "text/plain": [
       "Text(0.5, 1.0, 'Weather wise Accident')"
      ]
     },
     "execution_count": 29,
     "metadata": {},
     "output_type": "execute_result"
    },
    {
     "data": {
      "image/png": "[encoded data removed]",
      "text/plain": [
       "<Figure size 432x288 with 1 Axes>"
      ]
     },
     "metadata": {
      "needs_background": "light"
     },
     "output_type": "display_data"
    }
   ],
   "source": [
    "data.Weather.value_counts().sort_index().plot.bar()\n",
    "plt.title(\"Weather wise Accident\", fontsize=15)"
   ]
  },
  {
   "cell_type": "code",
   "execution_count": 32,
   "metadata": {},
   "outputs": [
    {
     "data": {
      "text/plain": [
       "No Control Present                     5538\n",
       "Stop Sign                              2538\n",
       "Stop And Go Signal                     2243\n",
       "Double Yellow Line, No Passing Zone    1479\n",
       "Missing                                 153\n",
       "Yield Sign                               68\n",
       "Other                                    55\n",
       "Flashing Stop And Go Signal              35\n",
       "Flashing Signal With Stop Sign           27\n",
       "Human Control                            14\n",
       "Flashing Signal Without Stop Sign        10\n",
       "Warning Sign                              5\n",
       "RR Gate And Flasher                       4\n",
       "School Zone Signs                         4\n",
       "Name: TraffCntrl, dtype: int64"
      ]
     },
     "execution_count": 32,
     "metadata": {},
     "output_type": "execute_result"
    }
   ],
   "source": [
    "data['TraffCntrl'].value_counts()"
   ]
  },
  {
   "cell_type": "code",
   "execution_count": 33,
   "metadata": {},
   "outputs": [
    {
     "data": {
      "text/plain": [
       "Text(0.5, 1.0, 'Traffic Control at the time of Accident')"
      ]
     },
     "execution_count": 33,
     "metadata": {},
     "output_type": "execute_result"
    },
    {
     "data": {
      "image/png": "[encoded data removed]",
      "text/plain": [
       "<Figure size 432x288 with 1 Axes>"
      ]
     },
     "metadata": {
      "needs_background": "light"
     },
     "output_type": "display_data"
    }
   ],
   "source": [
    "data['TraffCntrl'].value_counts().sort_index().plot.bar()\n",
    "plt.title(\"Traffic Control at the time of Accident\", fontsize=15)"
   ]
  },
  {
   "cell_type": "code",
   "execution_count": 34,
   "metadata": {},
   "outputs": [
    {
     "data": {
      "text/plain": [
       "30 - 35  MPH    4821\n",
       "40 - 45  MPH    2623\n",
       "20 - 25  MPH    2042\n",
       "50 - 55  MPH    1369\n",
       "5 - 15 MPH       699\n",
       "Unknown          586\n",
       "60 - 75 MPH       33\n",
       "Name: SpeedLimit, dtype: int64"
      ]
     },
     "execution_count": 34,
     "metadata": {},
     "output_type": "execute_result"
    }
   ],
   "source": [
    "data['SpeedLimit'].value_counts()"
   ]
  },
  {
   "cell_type": "code",
   "execution_count": 35,
   "metadata": {},
   "outputs": [
    {
     "data": {
      "text/plain": [
       "Text(0.5, 1.0, 'Speed of the Bike')"
      ]
     },
     "execution_count": 35,
     "metadata": {},
     "output_type": "execute_result"
    },
    {
     "data": {
      "image/png": "[encoded data removed]",
      "text/plain": [
       "<Figure size 432x288 with 1 Axes>"
      ]
     },
     "metadata": {
      "needs_background": "light"
     },
     "output_type": "display_data"
    }
   ],
   "source": [
    "data['SpeedLimit'].value_counts().sort_index().plot.bar()\n",
    "plt.title(\"Speed of the Bike\", fontsize=15)"
   ]
  },
  {
   "cell_type": "code",
   "execution_count": 36,
   "metadata": {},
   "outputs": [
    {
     "data": {
      "text/plain": [
       "2012    1020\n",
       "2008    1018\n",
       "2007    1001\n",
       "2017    1000\n",
       "2010     967\n",
       "2016     955\n",
       "2015     949\n",
       "2019     907\n",
       "2018     899\n",
       "2011     899\n",
       "2013     897\n",
       "2014     850\n",
       "2009     811\n",
       "Name: CrashYear, dtype: int64"
      ]
     },
     "execution_count": 36,
     "metadata": {},
     "output_type": "execute_result"
    }
   ],
   "source": [
    "#Year Wise accident\n",
    "data['CrashYear'].value_counts()"
   ]
  },
  {
   "cell_type": "code",
   "execution_count": 37,
   "metadata": {},
   "outputs": [
    {
     "data": {
      "text/plain": [
       "Text(0.5, 1.0, 'Year wise Accident')"
      ]
     },
     "execution_count": 37,
     "metadata": {},
     "output_type": "execute_result"
    },
    {
     "data": {
      "image/png": "[encoded data removed]",
      "text/plain": [
       "<Figure size 432x288 with 1 Axes>"
      ]
     },
     "metadata": {
      "needs_background": "light"
     },
     "output_type": "display_data"
    }
   ],
   "source": [
    "data['CrashYear'].value_counts().sort_index().plot.bar()\n",
    "plt.title(\"Year wise Accident\", fontsize=15)"
   ]
  },
  {
   "cell_type": "code",
   "execution_count": 38,
   "metadata": {},
   "outputs": [
    {
     "data": {
      "text/plain": [
       "No     10355\n",
       "Yes     1818\n",
       "Name: HitRun, dtype: int64"
      ]
     },
     "execution_count": 38,
     "metadata": {},
     "output_type": "execute_result"
    }
   ],
   "source": [
    "data['HitRun'].value_counts()"
   ]
  },
  {
   "cell_type": "code",
   "execution_count": 40,
   "metadata": {},
   "outputs": [
    {
     "data": {
      "text/plain": [
       "Text(0.5, 1.0, 'Weather the biker committed accident and then ran away or not!')"
      ]
     },
     "execution_count": 40,
     "metadata": {},
     "output_type": "execute_result"
    },
    {
     "data": {
      "image/png": "[encoded data removed]",
      "text/plain": [
       "<Figure size 432x288 with 1 Axes>"
      ]
     },
     "metadata": {
      "needs_background": "light"
     },
     "output_type": "display_data"
    }
   ],
   "source": [
    "data.HitRun.value_counts().sort_index().plot.bar()\n",
    "plt.title(\"Weather the biker committed accident and then ran away or not!\")"
   ]
  },
  {
   "cell_type": "code",
   "execution_count": 41,
   "metadata": {},
   "outputs": [
    {
     "data": {
      "text/plain": [
       "Urban    8775\n",
       "Rural    3397\n",
       ".           1\n",
       "Name: RuralUrban, dtype: int64"
      ]
     },
     "execution_count": 41,
     "metadata": {},
     "output_type": "execute_result"
    }
   ],
   "source": [
    "data['RuralUrban'].value_counts()"
   ]
  },
  {
   "cell_type": "code",
   "execution_count": 42,
   "metadata": {},
   "outputs": [
    {
     "data": {
      "text/plain": [
       "Text(0.5, 1.0, 'Rural vs Urban')"
      ]
     },
     "execution_count": 42,
     "metadata": {},
     "output_type": "execute_result"
    },
    {
     "data": {
      "image/png": "[encoded data removed]",
      "text/plain": [
       "<Figure size 432x288 with 1 Axes>"
      ]
     },
     "metadata": {
      "needs_background": "light"
     },
     "output_type": "display_data"
    }
   ],
   "source": [
    "data['RuralUrban'].value_counts().sort_index().plot.bar()\n",
    "plt.title(\"Rural vs Urban\", fontsize=15)"
   ]
  },
  {
   "cell_type": "code",
   "execution_count": 43,
   "metadata": {},
   "outputs": [
    {
     "data": {
      "text/plain": [
       "Urban (>70% Developed)          8700\n",
       "Rural (<30% Developed)          1763\n",
       "Mixed (30% To 70% Developed)    1710\n",
       "Name: Locality, dtype: int64"
      ]
     },
     "execution_count": 43,
     "metadata": {},
     "output_type": "execute_result"
    }
   ],
   "source": [
    "data['Locality'].value_counts()"
   ]
  },
  {
   "cell_type": "code",
   "execution_count": 44,
   "metadata": {},
   "outputs": [
    {
     "data": {
      "text/plain": [
       "Text(0.5, 1.0, 'Locality wise Accident')"
      ]
     },
     "execution_count": 44,
     "metadata": {},
     "output_type": "execute_result"
    },
    {
     "data": {
      "image/png": "[encoded data removed]",
      "text/plain": [
       "<Figure size 432x288 with 1 Axes>"
      ]
     },
     "metadata": {
      "needs_background": "light"
     },
     "output_type": "display_data"
    }
   ],
   "source": [
    "data['Locality'].value_counts().sort_index().plot.bar()\n",
    "plt.title(\"Locality wise Accident\", fontsize=15)"
   ]
  },
  {
   "cell_type": "code",
   "execution_count": 45,
   "metadata": {},
   "outputs": [
    {
     "data": {
      "text/html": [
       "<div>\n",
       "<style scoped>\n",
       "    .dataframe tbody tr th:only-of-type {\n",
       "        vertical-align: middle;\n",
       "    }\n",
       "\n",
       "    .dataframe tbody tr th {\n",
       "        vertical-align: top;\n",
       "    }\n",
       "\n",
       "    .dataframe thead th {\n",
       "        text-align: right;\n",
       "    }\n",
       "</style>\n",
       "<table border=\"1\" class=\"dataframe\">\n",
       "  <thead>\n",
       "    <tr style=\"text-align: right;\">\n",
       "      <th></th>\n",
       "      <th>X</th>\n",
       "      <th>Y</th>\n",
       "      <th>OBJECTID_1</th>\n",
       "      <th>CrashHour</th>\n",
       "      <th>CrashID</th>\n",
       "      <th>CrashYear</th>\n",
       "      <th>Latitude</th>\n",
       "      <th>Longitude</th>\n",
       "      <th>NumUnits</th>\n",
       "      <th>OBJECTID</th>\n",
       "    </tr>\n",
       "  </thead>\n",
       "  <tbody>\n",
       "    <tr>\n",
       "      <th>X</th>\n",
       "      <td>1.000000</td>\n",
       "      <td>-0.108806</td>\n",
       "      <td>0.006437</td>\n",
       "      <td>-0.007031</td>\n",
       "      <td>-0.000004</td>\n",
       "      <td>-0.001329</td>\n",
       "      <td>-0.108806</td>\n",
       "      <td>1.000000</td>\n",
       "      <td>-0.004496</td>\n",
       "      <td>0.006437</td>\n",
       "    </tr>\n",
       "    <tr>\n",
       "      <th>Y</th>\n",
       "      <td>-0.108806</td>\n",
       "      <td>1.000000</td>\n",
       "      <td>-0.020657</td>\n",
       "      <td>0.007790</td>\n",
       "      <td>-0.022339</td>\n",
       "      <td>-0.021853</td>\n",
       "      <td>1.000000</td>\n",
       "      <td>-0.108806</td>\n",
       "      <td>-0.009966</td>\n",
       "      <td>-0.020657</td>\n",
       "    </tr>\n",
       "    <tr>\n",
       "      <th>OBJECTID_1</th>\n",
       "      <td>0.006437</td>\n",
       "      <td>-0.020657</td>\n",
       "      <td>1.000000</td>\n",
       "      <td>-0.023383</td>\n",
       "      <td>0.982901</td>\n",
       "      <td>0.983638</td>\n",
       "      <td>-0.020657</td>\n",
       "      <td>0.006437</td>\n",
       "      <td>-0.010489</td>\n",
       "      <td>1.000000</td>\n",
       "    </tr>\n",
       "    <tr>\n",
       "      <th>CrashHour</th>\n",
       "      <td>-0.007031</td>\n",
       "      <td>0.007790</td>\n",
       "      <td>-0.023383</td>\n",
       "      <td>1.000000</td>\n",
       "      <td>-0.026130</td>\n",
       "      <td>-0.024659</td>\n",
       "      <td>0.007790</td>\n",
       "      <td>-0.007031</td>\n",
       "      <td>-0.002736</td>\n",
       "      <td>-0.023383</td>\n",
       "    </tr>\n",
       "    <tr>\n",
       "      <th>CrashID</th>\n",
       "      <td>-0.000004</td>\n",
       "      <td>-0.022339</td>\n",
       "      <td>0.982901</td>\n",
       "      <td>-0.026130</td>\n",
       "      <td>1.000000</td>\n",
       "      <td>0.995621</td>\n",
       "      <td>-0.022339</td>\n",
       "      <td>-0.000004</td>\n",
       "      <td>-0.007425</td>\n",
       "      <td>0.982901</td>\n",
       "    </tr>\n",
       "    <tr>\n",
       "      <th>CrashYear</th>\n",
       "      <td>-0.001329</td>\n",
       "      <td>-0.021853</td>\n",
       "      <td>0.983638</td>\n",
       "      <td>-0.024659</td>\n",
       "      <td>0.995621</td>\n",
       "      <td>1.000000</td>\n",
       "      <td>-0.021853</td>\n",
       "      <td>-0.001329</td>\n",
       "      <td>-0.006806</td>\n",
       "      <td>0.983638</td>\n",
       "    </tr>\n",
       "    <tr>\n",
       "      <th>Latitude</th>\n",
       "      <td>-0.108806</td>\n",
       "      <td>1.000000</td>\n",
       "      <td>-0.020657</td>\n",
       "      <td>0.007790</td>\n",
       "      <td>-0.022339</td>\n",
       "      <td>-0.021853</td>\n",
       "      <td>1.000000</td>\n",
       "      <td>-0.108806</td>\n",
       "      <td>-0.009966</td>\n",
       "      <td>-0.020657</td>\n",
       "    </tr>\n",
       "    <tr>\n",
       "      <th>Longitude</th>\n",
       "      <td>1.000000</td>\n",
       "      <td>-0.108806</td>\n",
       "      <td>0.006437</td>\n",
       "      <td>-0.007031</td>\n",
       "      <td>-0.000004</td>\n",
       "      <td>-0.001329</td>\n",
       "      <td>-0.108806</td>\n",
       "      <td>1.000000</td>\n",
       "      <td>-0.004496</td>\n",
       "      <td>0.006437</td>\n",
       "    </tr>\n",
       "    <tr>\n",
       "      <th>NumUnits</th>\n",
       "      <td>-0.004496</td>\n",
       "      <td>-0.009966</td>\n",
       "      <td>-0.010489</td>\n",
       "      <td>-0.002736</td>\n",
       "      <td>-0.007425</td>\n",
       "      <td>-0.006806</td>\n",
       "      <td>-0.009966</td>\n",
       "      <td>-0.004496</td>\n",
       "      <td>1.000000</td>\n",
       "      <td>-0.010489</td>\n",
       "    </tr>\n",
       "    <tr>\n",
       "      <th>OBJECTID</th>\n",
       "      <td>0.006437</td>\n",
       "      <td>-0.020657</td>\n",
       "      <td>1.000000</td>\n",
       "      <td>-0.023383</td>\n",
       "      <td>0.982901</td>\n",
       "      <td>0.983638</td>\n",
       "      <td>-0.020657</td>\n",
       "      <td>0.006437</td>\n",
       "      <td>-0.010489</td>\n",
       "      <td>1.000000</td>\n",
       "    </tr>\n",
       "  </tbody>\n",
       "</table>\n",
       "</div>"
      ],
      "text/plain": [
       "                   X         Y  OBJECTID_1  CrashHour   CrashID  CrashYear  \\\n",
       "X           1.000000 -0.108806    0.006437  -0.007031 -0.000004  -0.001329   \n",
       "Y          -0.108806  1.000000   -0.020657   0.007790 -0.022339  -0.021853   \n",
       "OBJECTID_1  0.006437 -0.020657    1.000000  -0.023383  0.982901   0.983638   \n",
       "CrashHour  -0.007031  0.007790   -0.023383   1.000000 -0.026130  -0.024659   \n",
       "CrashID    -0.000004 -0.022339    0.982901  -0.026130  1.000000   0.995621   \n",
       "CrashYear  -0.001329 -0.021853    0.983638  -0.024659  0.995621   1.000000   \n",
       "Latitude   -0.108806  1.000000   -0.020657   0.007790 -0.022339  -0.021853   \n",
       "Longitude   1.000000 -0.108806    0.006437  -0.007031 -0.000004  -0.001329   \n",
       "NumUnits   -0.004496 -0.009966   -0.010489  -0.002736 -0.007425  -0.006806   \n",
       "OBJECTID    0.006437 -0.020657    1.000000  -0.023383  0.982901   0.983638   \n",
       "\n",
       "            Latitude  Longitude  NumUnits  OBJECTID  \n",
       "X          -0.108806   1.000000 -0.004496  0.006437  \n",
       "Y           1.000000  -0.108806 -0.009966 -0.020657  \n",
       "OBJECTID_1 -0.020657   0.006437 -0.010489  1.000000  \n",
       "CrashHour   0.007790  -0.007031 -0.002736 -0.023383  \n",
       "CrashID    -0.022339  -0.000004 -0.007425  0.982901  \n",
       "CrashYear  -0.021853  -0.001329 -0.006806  0.983638  \n",
       "Latitude    1.000000  -0.108806 -0.009966 -0.020657  \n",
       "Longitude  -0.108806   1.000000 -0.004496  0.006437  \n",
       "NumUnits   -0.009966  -0.004496  1.000000 -0.010489  \n",
       "OBJECTID   -0.020657   0.006437 -0.010489  1.000000  "
      ]
     },
     "execution_count": 45,
     "metadata": {},
     "output_type": "execute_result"
    }
   ],
   "source": [
    "#find out corelation between attributes\n",
    "data.corr()"
   ]
  },
  {
   "cell_type": "markdown",
   "metadata": {},
   "source": [
    "* Linear Regression : Linear Regression is a machine learning algorithm based on supervised learning. Linear regression performs the task to predict a dependent variable value (y) based on a given independent variable (x). So, this regression technique finds out a linear relationship between x (input) and y(output).\n",
    "* Random Forest Regression : Random Forest Regression is a supervised learning algorithm that uses ensemble learning method for regression. A Random Forest operates by constructing several decision trees during training time and outputting the mean of the classes as the prediction of all the trees.\n",
    "* Decision Tree Regression : Decision tree builds regression or classification models in the form of a tree structure. It breaks down a dataset into smaller and smaller subsets while at the same time an associated decision tree is incrementally developed. Decision trees can handle both categorical and numerical data.\n",
    "* Lasso Regression : In statistics and machine learning, lasso (least absolute shrinkage and selection operator; also Lasso or LASSO) is a regression analysis method that performs both variable selection and regularization in order to enhance the prediction accuracy and interpretability of the resulting statistical model.\n",
    "* Ridge Regression : Ridge regression is a model tuning method that is used to analyse any data that suffers from multicollinearity. This method performs L2 regularization. When the issue of multicollinearity occurs, least-squares are unbiased, and variances are large, this results in predicted values to be far away from the actual values.\n",
    "* XgBoost Regressor : XGBoost is a powerful approach for building supervised regression models. ... Ensemble learning involves training and combining individual models (known as base learners) to get a single prediction, and XGBoost is one of the ensemble learning methods.\n",
    "* MLP Regressor : A multilayer perceptron (MLP) is a class of feedforward artificial neural network (ANN). ... MLP utilizes a supervised learning technique called backpropagation for training. Its multiple layers and non-linear activation distinguish MLP from a linear perceptron. It can distinguish data that is not linearly separable.\n",
    "* Gradient Boosting Regressor : Gradient boosting is a machine learning technique for regression, classification and other tasks, which produces a prediction model in the form of an ensemble of weak prediction models, typically decision trees.\n",
    "* Support Vector Machine Regressor : Support Vector Machine can also be used as a regression method, maintaining all the main    features that characterize the algorithm (maximal margin). The Support Vector Regression (SVR) uses the same principles as the SVM for classification, with only a few minor differences."
   ]
  },
  {
   "cell_type": "code",
   "execution_count": 46,
   "metadata": {},
   "outputs": [],
   "source": [
    "x = data[['CrashID', 'CrashYear']]\n",
    "y = data['OBJECTID']"
   ]
  },
  {
   "cell_type": "code",
   "execution_count": 47,
   "metadata": {},
   "outputs": [],
   "source": [
    "from sklearn.model_selection import train_test_split\n",
    "x_train, x_test, y_train, y_test = train_test_split(x, y, test_size=0.3, random_state= 1)"
   ]
  },
  {
   "cell_type": "code",
   "execution_count": 48,
   "metadata": {},
   "outputs": [
    {
     "name": "stdout",
     "output_type": "stream",
     "text": [
      "(8521, 2)\n",
      "(3652, 2)\n",
      "(8521,)\n",
      "(3652,)\n"
     ]
    }
   ],
   "source": [
    "print(x_train.shape)#for training purpose\n",
    "print(x_test.shape)#for testing purpose\n",
    "print(y_train.shape)#for training purpose\n",
    "print(y_test.shape)#for testing purpose"
   ]
  },
  {
   "cell_type": "markdown",
   "metadata": {},
   "source": [
    "# Random Forest Regressor"
   ]
  },
  {
   "cell_type": "code",
   "execution_count": 50,
   "metadata": {},
   "outputs": [],
   "source": [
    "from sklearn.ensemble import RandomForestRegressor"
   ]
  },
  {
   "cell_type": "code",
   "execution_count": 51,
   "metadata": {},
   "outputs": [
    {
     "data": {
      "text/plain": [
       "RandomForestRegressor(n_estimators=500, random_state=0)"
      ]
     },
     "execution_count": 51,
     "metadata": {},
     "output_type": "execute_result"
    }
   ],
   "source": [
    "regressor = RandomForestRegressor(n_estimators=500, criterion= 'mse', random_state=0)\n",
    "regressor.fit(x_train, y_train)"
   ]
  },
  {
   "cell_type": "code",
   "execution_count": 52,
   "metadata": {},
   "outputs": [
    {
     "name": "stdout",
     "output_type": "stream",
     "text": [
      "Mean Absolute Error(MAE): 271.09648764473474\n",
      "Residual Sum of Squares(MSE): 365582.24584308936\n",
      "R2-Score: 0.9704219867017381\n"
     ]
    }
   ],
   "source": [
    "from sklearn import metrics\n",
    "y_pred = regressor.predict(x_test)\n",
    "print(f\"Mean Absolute Error(MAE): {metrics.mean_absolute_error(y_test, y_pred)}\")\n",
    "print(f\"Residual Sum of Squares(MSE): {metrics.mean_squared_error(y_test, y_pred)}\")\n",
    "print(f\"R2-Score: {metrics.r2_score(y_test, y_pred)}\")"
   ]
  },
  {
   "cell_type": "code",
   "execution_count": 54,
   "metadata": {},
   "outputs": [
    {
     "data": {
      "text/html": [
       "<div>\n",
       "<style scoped>\n",
       "    .dataframe tbody tr th:only-of-type {\n",
       "        vertical-align: middle;\n",
       "    }\n",
       "\n",
       "    .dataframe tbody tr th {\n",
       "        vertical-align: top;\n",
       "    }\n",
       "\n",
       "    .dataframe thead th {\n",
       "        text-align: right;\n",
       "    }\n",
       "</style>\n",
       "<table border=\"1\" class=\"dataframe\">\n",
       "  <thead>\n",
       "    <tr style=\"text-align: right;\">\n",
       "      <th></th>\n",
       "      <th>ObjectID</th>\n",
       "      <th>Predicted ID</th>\n",
       "    </tr>\n",
       "  </thead>\n",
       "  <tbody>\n",
       "    <tr>\n",
       "      <th>6458</th>\n",
       "      <td>6459</td>\n",
       "      <td>6460.272000</td>\n",
       "    </tr>\n",
       "    <tr>\n",
       "      <th>9446</th>\n",
       "      <td>9447</td>\n",
       "      <td>9253.034143</td>\n",
       "    </tr>\n",
       "    <tr>\n",
       "      <th>600</th>\n",
       "      <td>601</td>\n",
       "      <td>600.360000</td>\n",
       "    </tr>\n",
       "    <tr>\n",
       "      <th>8483</th>\n",
       "      <td>8484</td>\n",
       "      <td>7383.446000</td>\n",
       "    </tr>\n",
       "    <tr>\n",
       "      <th>8502</th>\n",
       "      <td>8503</td>\n",
       "      <td>7430.680000</td>\n",
       "    </tr>\n",
       "  </tbody>\n",
       "</table>\n",
       "</div>"
      ],
      "text/plain": [
       "      ObjectID  Predicted ID\n",
       "6458      6459   6460.272000\n",
       "9446      9447   9253.034143\n",
       "600        601    600.360000\n",
       "8483      8484   7383.446000\n",
       "8502      8503   7430.680000"
      ]
     },
     "execution_count": 54,
     "metadata": {},
     "output_type": "execute_result"
    }
   ],
   "source": [
    "y_pred = regressor.predict(x_test)\n",
    "ds = pd.DataFrame()\n",
    "ds['ObjectID'] = y_test\n",
    "ds['Predicted ID']= y_pred\n",
    "ds.head(5)"
   ]
  },
  {
   "cell_type": "code",
   "execution_count": 55,
   "metadata": {},
   "outputs": [
    {
     "data": {
      "text/plain": [
       "<AxesSubplot:>"
      ]
     },
     "execution_count": 55,
     "metadata": {},
     "output_type": "execute_result"
    },
    {
     "data": {
      "image/png": "[encoded data removed]",
      "text/plain": [
       "<Figure size 432x288 with 2 Axes>"
      ]
     },
     "metadata": {
      "needs_background": "light"
     },
     "output_type": "display_data"
    }
   ],
   "source": [
    "sns.heatmap(ds.corr(), annot= True)"
   ]
  },
  {
   "cell_type": "markdown",
   "metadata": {},
   "source": [
    "# Decision Tree Regressor"
   ]
  },
  {
   "cell_type": "code",
   "execution_count": 56,
   "metadata": {},
   "outputs": [
    {
     "data": {
      "text/plain": [
       "DecisionTreeRegressor()"
      ]
     },
     "execution_count": 56,
     "metadata": {},
     "output_type": "execute_result"
    }
   ],
   "source": [
    "from sklearn.tree import DecisionTreeRegressor\n",
    "dtr = DecisionTreeRegressor()\n",
    "dtr.fit(x_train, y_train)"
   ]
  },
  {
   "cell_type": "code",
   "execution_count": 57,
   "metadata": {},
   "outputs": [
    {
     "name": "stdout",
     "output_type": "stream",
     "text": [
      "Mean Absolute Error (MEA): 269.77628696604603\n",
      "Residual Sum of Squared (MSE): 501954.67702628695\n",
      "R2-Score: 0.9593885581670707\n"
     ]
    }
   ],
   "source": [
    "y_pred = dtr.predict(x_test)\n",
    "print(f\"Mean Absolute Error (MEA): {metrics.mean_absolute_error(y_test, y_pred)}\")\n",
    "print(f\"Residual Sum of Squared (MSE): {metrics.mean_squared_error(y_test, y_pred)}\")\n",
    "print(f\"R2-Score: {metrics.r2_score(y_test, y_pred)}\")"
   ]
  },
  {
   "cell_type": "markdown",
   "metadata": {},
   "source": [
    "# Lasso Regression"
   ]
  },
  {
   "cell_type": "code",
   "execution_count": 58,
   "metadata": {},
   "outputs": [
    {
     "data": {
      "text/plain": [
       "Lasso(alpha=0.1)"
      ]
     },
     "execution_count": 58,
     "metadata": {},
     "output_type": "execute_result"
    }
   ],
   "source": [
    "from sklearn import linear_model\n",
    "lasso = linear_model.Lasso(alpha=0.1)\n",
    "lasso.fit(x_train, y_train)"
   ]
  },
  {
   "cell_type": "code",
   "execution_count": 59,
   "metadata": {},
   "outputs": [
    {
     "name": "stdout",
     "output_type": "stream",
     "text": [
      "Mean Absolute Error (MEA): 401.6243607261028\n",
      "Mean Squared Error (MSE): 380800.6283476192\n",
      "R-2 Score: 0.9691907192503908\n"
     ]
    }
   ],
   "source": [
    "y_pred = lasso.predict(x_test)\n",
    "print(f\"Mean Absolute Error (MEA): {metrics.mean_absolute_error(y_test, y_pred)}\")\n",
    "print(f\"Mean Squared Error (MSE): {metrics.mean_squared_error(y_test, y_pred)}\")\n",
    "print(f\"R-2 Score: {metrics.r2_score(y_test, y_pred)}\")"
   ]
  },
  {
   "cell_type": "markdown",
   "metadata": {},
   "source": [
    "# Ridge Regression"
   ]
  },
  {
   "cell_type": "code",
   "execution_count": 60,
   "metadata": {},
   "outputs": [
    {
     "data": {
      "text/plain": [
       "Ridge(alpha=0.1)"
      ]
     },
     "execution_count": 60,
     "metadata": {},
     "output_type": "execute_result"
    }
   ],
   "source": [
    "from sklearn import linear_model\n",
    "ridge = linear_model.Ridge(alpha= 0.1)\n",
    "ridge.fit(x_train, y_train)"
   ]
  },
  {
   "cell_type": "code",
   "execution_count": 61,
   "metadata": {},
   "outputs": [
    {
     "name": "stdout",
     "output_type": "stream",
     "text": [
      "Mean Absolute Error (MEA): 401.68217617897153\n",
      "Mean Squared Error (MSA) : 380783.6976646281\n",
      "R-2 Score: 0.9691920890542376\n"
     ]
    }
   ],
   "source": [
    "y_pred = ridge.predict(x_test)\n",
    "print(f\"Mean Absolute Error (MEA): {metrics.mean_absolute_error(y_test, y_pred)}\")\n",
    "print(f\"Mean Squared Error (MSA) : {metrics.mean_squared_error(y_test, y_pred)}\")\n",
    "print(f\"R-2 Score: {metrics.r2_score(y_test, y_pred)}\")"
   ]
  },
  {
   "cell_type": "markdown",
   "metadata": {},
   "source": [
    "# XgBoost Regressor"
   ]
  },
  {
   "cell_type": "code",
   "execution_count": 62,
   "metadata": {},
   "outputs": [
    {
     "data": {
      "text/plain": [
       "XGBRegressor(base_score=0.5, booster='gbtree', colsample_bylevel=1,\n",
       "             colsample_bynode=1, colsample_bytree=1, gamma=0, gpu_id=-1,\n",
       "             importance_type='gain', interaction_constraints='',\n",
       "             learning_rate=0.300000012, max_delta_step=0, max_depth=6,\n",
       "             min_child_weight=1, missing=nan, monotone_constraints='()',\n",
       "             n_estimators=100, n_jobs=8, num_parallel_tree=1, random_state=0,\n",
       "             reg_alpha=0, reg_lambda=1, scale_pos_weight=1, subsample=1,\n",
       "             tree_method='exact', validate_parameters=1, verbosity=None)"
      ]
     },
     "execution_count": 62,
     "metadata": {},
     "output_type": "execute_result"
    }
   ],
   "source": [
    "from xgboost.sklearn import XGBRegressor\n",
    "xgb = XGBRegressor()\n",
    "xgb.fit(x_train, y_train)"
   ]
  },
  {
   "cell_type": "code",
   "execution_count": 64,
   "metadata": {},
   "outputs": [
    {
     "name": "stdout",
     "output_type": "stream",
     "text": [
      "Mean Absolute Error (MEA): 281.691588218737\n",
      "Mean Squared Error (MSE) : 293386.5779559801\n",
      "R-2 Score: 0.9762630920867035\n"
     ]
    }
   ],
   "source": [
    "y_pred = xgb.predict(x_test)\n",
    "print(f\"Mean Absolute Error (MEA): {metrics.mean_absolute_error(y_test, y_pred)}\")\n",
    "print(f\"Mean Squared Error (MSE) : {metrics.mean_squared_error(y_test, y_pred)}\")\n",
    "print(f\"R-2 Score: {metrics.r2_score(y_test, y_pred)}\")"
   ]
  },
  {
   "cell_type": "markdown",
   "metadata": {},
   "source": [
    "# MLP Regressor"
   ]
  },
  {
   "cell_type": "code",
   "execution_count": 65,
   "metadata": {},
   "outputs": [
    {
     "data": {
      "text/plain": [
       "MLPRegressor()"
      ]
     },
     "execution_count": 65,
     "metadata": {},
     "output_type": "execute_result"
    }
   ],
   "source": [
    "from sklearn.neural_network import MLPRegressor\n",
    "mlp = MLPRegressor()\n",
    "mlp.fit(x_train, y_train)"
   ]
  },
  {
   "cell_type": "code",
   "execution_count": 66,
   "metadata": {},
   "outputs": [
    {
     "name": "stdout",
     "output_type": "stream",
     "text": [
      "Mean Absolute Error (MEA): 2995.7336803349144\n",
      "Mean Squared Error (MSA) : 12016126.563937452\n",
      "R-2 Score : 0.027816160814641777\n"
     ]
    }
   ],
   "source": [
    "y_pred = mlp.predict(x_test)\n",
    "print(f\"Mean Absolute Error (MEA): {metrics.mean_absolute_error(y_test, y_pred)}\")\n",
    "print(f\"Mean Squared Error (MSA) : {metrics.mean_squared_error(y_test, y_pred)}\")\n",
    "print(f\"R-2 Score : {metrics.r2_score(y_test, y_pred)}\")"
   ]
  },
  {
   "cell_type": "markdown",
   "metadata": {},
   "source": [
    "# Gradient Boosting Regressor"
   ]
  },
  {
   "cell_type": "code",
   "execution_count": 67,
   "metadata": {},
   "outputs": [
    {
     "data": {
      "text/plain": [
       "GradientBoostingRegressor()"
      ]
     },
     "execution_count": 67,
     "metadata": {},
     "output_type": "execute_result"
    }
   ],
   "source": [
    "from sklearn.ensemble import GradientBoostingRegressor\n",
    "gb = GradientBoostingRegressor()\n",
    "gb.fit(x_train, y_train)"
   ]
  },
  {
   "cell_type": "code",
   "execution_count": 68,
   "metadata": {},
   "outputs": [
    {
     "name": "stdout",
     "output_type": "stream",
     "text": [
      "Mean Absolute Error (MEA) : 288.21468585948276\n",
      "Mean Squared Error (MSA) : 259281.14984872882\n",
      "R-2 Score: 0.9790224460147718\n"
     ]
    }
   ],
   "source": [
    "y_pred = gb.predict(x_test)\n",
    "print(f\"Mean Absolute Error (MEA) : {metrics.mean_absolute_error(y_test, y_pred)}\")\n",
    "print(f\"Mean Squared Error (MSA) : {metrics.mean_squared_error(y_test, y_pred)}\")\n",
    "print(f\"R-2 Score: {metrics.r2_score(y_test, y_pred)}\")"
   ]
  },
  {
   "cell_type": "markdown",
   "metadata": {},
   "source": [
    "# Support Vector Machine Learning"
   ]
  },
  {
   "cell_type": "code",
   "execution_count": 69,
   "metadata": {},
   "outputs": [
    {
     "data": {
      "text/plain": [
       "SVR()"
      ]
     },
     "execution_count": 69,
     "metadata": {},
     "output_type": "execute_result"
    }
   ],
   "source": [
    "from sklearn.svm import SVR\n",
    "svm = SVR()\n",
    "svm.fit(x_train, y_train)"
   ]
  },
  {
   "cell_type": "code",
   "execution_count": 71,
   "metadata": {},
   "outputs": [
    {
     "name": "stdout",
     "output_type": "stream",
     "text": [
      "Mean Absolute Error (MEA) : 3045.1892659813216\n",
      "Mean Squared Error (MSE) : 12357294.014595963\n",
      "R-2 Score : 0.000213465368532062\n"
     ]
    }
   ],
   "source": [
    "y_pred = svm.predict(x_test)\n",
    "print(f\"Mean Absolute Error (MEA) : {metrics.mean_absolute_error(y_test, y_pred)}\")\n",
    "print(f\"Mean Squared Error (MSE) : {metrics.mean_squared_error(y_test, y_pred)}\")\n",
    "print(f\"R-2 Score : {metrics.r2_score(y_test, y_pred)}\")"
   ]
  },
  {
   "cell_type": "markdown",
   "metadata": {},
   "source": [
    "# The End"
   ]
  }
 ],
 "metadata": {
  "kernelspec": {
   "display_name": "Python 3",
   "language": "python",
   "name": "python3"
  },
  "language_info": {
   "codemirror_mode": {
    "name": "ipython",
    "version": 3
   },
   "file_extension": ".py",
   "mimetype": "text/x-python",
   "name": "python",
   "nbconvert_exporter": "python",
   "pygments_lexer": "ipython3",
   "version": "3.7.4"
  }
 },
 "nbformat": 4,
 "nbformat_minor": 2
}
